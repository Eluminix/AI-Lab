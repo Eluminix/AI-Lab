{
 "cells": [
  {
   "cell_type": "markdown",
   "id": "db770226",
   "metadata": {},
   "source": [
    "# Read and prepare Data from csv"
   ]
  },
  {
   "cell_type": "code",
   "execution_count": 14,
   "id": "5c1168bb",
   "metadata": {},
   "outputs": [],
   "source": [
    "import pandas as pd\n",
    "from sklearn.model_selection import train_test_split\n",
    "from datasets import Dataset\n",
    "\n",
    "# 1. CSV laden\n",
    "df = pd.read_csv(\"data/full_dataset.csv\")\n",
    "df[\"overall_classification\"] = df[\"overall_classification\"] - 1\n",
    "\n",
    "# 2. Trainings-/Validierungsdaten aufteilen\n",
    "train_df, val_df = train_test_split(df, test_size=0.1, random_state=42)\n",
    "\n",
    "# 3. In HuggingFace Dataset umwandeln\n",
    "train_dataset = Dataset.from_pandas(train_df)\n",
    "val_dataset = Dataset.from_pandas(val_df)"
   ]
  },
  {
   "cell_type": "markdown",
   "id": "4c986baf",
   "metadata": {},
   "source": [
    "# Load Tokenizer and pretrained Model"
   ]
  },
  {
   "cell_type": "code",
   "execution_count": 15,
   "id": "ae8b545b",
   "metadata": {},
   "outputs": [
    {
     "name": "stderr",
     "output_type": "stream",
     "text": [
      "Some weights of XLMRobertaForSequenceClassification were not initialized from the model checkpoint at xlm-roberta-base and are newly initialized: ['classifier.dense.bias', 'classifier.dense.weight', 'classifier.out_proj.bias', 'classifier.out_proj.weight']\n",
      "You should probably TRAIN this model on a down-stream task to be able to use it for predictions and inference.\n"
     ]
    }
   ],
   "source": [
    "from transformers import AutoTokenizer, AutoModelForSequenceClassification\n",
    "\n",
    "model_name = \"xlm-roberta-base\"\n",
    "\n",
    "# Tokenizer laden\n",
    "tokenizer = AutoTokenizer.from_pretrained(model_name)\n",
    "\n",
    "# Modell mit 4 Klassen\n",
    "model = AutoModelForSequenceClassification.from_pretrained(model_name, num_labels=4)\n"
   ]
  },
  {
   "cell_type": "markdown",
   "id": "1a9683e1",
   "metadata": {},
   "source": [
    "# Prepare Tokenising and Label"
   ]
  },
  {
   "cell_type": "code",
   "execution_count": 16,
   "id": "243a6fc8",
   "metadata": {},
   "outputs": [
    {
     "data": {
      "application/vnd.jupyter.widget-view+json": {
       "model_id": "06c20f1999ad40ceb559a45035ad0580",
       "version_major": 2,
       "version_minor": 0
      },
      "text/plain": [
       "Map:   0%|          | 0/2462 [00:00<?, ? examples/s]"
      ]
     },
     "metadata": {},
     "output_type": "display_data"
    },
    {
     "data": {
      "application/vnd.jupyter.widget-view+json": {
       "model_id": "aadeff12d037451f9e3e2402bf2ee70d",
       "version_major": 2,
       "version_minor": 0
      },
      "text/plain": [
       "Map:   0%|          | 0/274 [00:00<?, ? examples/s]"
      ]
     },
     "metadata": {},
     "output_type": "display_data"
    },
    {
     "data": {
      "application/vnd.jupyter.widget-view+json": {
       "model_id": "275fcd466fee44ca898260731bb8c97b",
       "version_major": 2,
       "version_minor": 0
      },
      "text/plain": [
       "Casting the dataset:   0%|          | 0/2462 [00:00<?, ? examples/s]"
      ]
     },
     "metadata": {},
     "output_type": "display_data"
    },
    {
     "data": {
      "application/vnd.jupyter.widget-view+json": {
       "model_id": "05ec6f8495514ee087b994fb4ef72873",
       "version_major": 2,
       "version_minor": 0
      },
      "text/plain": [
       "Casting the dataset:   0%|          | 0/274 [00:00<?, ? examples/s]"
      ]
     },
     "metadata": {},
     "output_type": "display_data"
    }
   ],
   "source": [
    "# Tokenisierung der Textpaare\n",
    "def preprocess(examples):\n",
    "    texts1 = [str(x) if x is not None else \"\" for x in examples[\"text1\"]]\n",
    "    texts2 = [str(x) if x is not None else \"\" for x in examples[\"text2\"]]\n",
    "    return tokenizer(\n",
    "        texts1,\n",
    "        texts2,\n",
    "        truncation=True,\n",
    "        padding=\"max_length\",\n",
    "        max_length=512,\n",
    "    )\n",
    "\n",
    "# Texte tokenisieren\n",
    "tokenized_train = train_dataset.map(preprocess, batched=True)\n",
    "tokenized_val = val_dataset.map(preprocess, batched=True)\n",
    "\n",
    "# Label-Spalte festlegen\n",
    "tokenized_train = tokenized_train.rename_column(\"overall_classification\", \"label\")\n",
    "tokenized_val = tokenized_val.rename_column(\"overall_classification\", \"label\")\n",
    "\n",
    "# Unnötige Spalten entfernen\n",
    "drop_cols = [\n",
    "    \"pair_id\", \"title1\", \"text1\", \"lang1\", \"title2\", \"text2\", \"lang2\",\n",
    "    \"overall\", \"geography\", \"entities\", \"time\", \"narrative\", \"style\", \"tone\"\n",
    "]\n",
    "\n",
    "tokenized_train = tokenized_train.remove_columns(drop_cols)\n",
    "tokenized_val = tokenized_val.remove_columns(drop_cols)\n",
    "\n",
    "# Label als int casten\n",
    "from datasets import Value\n",
    "\n",
    "tokenized_train = tokenized_train.cast_column(\"label\", Value(\"int64\"))\n",
    "tokenized_val = tokenized_val.cast_column(\"label\", Value(\"int64\"))\n"
   ]
  },
  {
   "cell_type": "markdown",
   "id": "c1c50722",
   "metadata": {},
   "source": [
    "# Prepare Training"
   ]
  },
  {
   "cell_type": "code",
   "execution_count": 17,
   "id": "6320b9df",
   "metadata": {},
   "outputs": [],
   "source": [
    "from transformers import TrainingArguments, Trainer\n",
    "import numpy as np\n",
    "from sklearn.metrics import accuracy_score, f1_score\n",
    "\n",
    "# Metriken definieren\n",
    "def compute_metrics(eval_pred):\n",
    "    logits, labels = eval_pred\n",
    "    preds = np.argmax(logits, axis=-1)\n",
    "    return {\n",
    "        \"accuracy\": accuracy_score(labels, preds),\n",
    "        \"f1_macro\": f1_score(labels, preds, average=\"macro\")\n",
    "    }\n",
    "\n",
    "# Trainingsparameter\n",
    "training_args = TrainingArguments(\n",
    "    output_dir=\"./results\",\n",
    "    eval_strategy=\"epoch\",\n",
    "    save_strategy=\"epoch\",\n",
    "    learning_rate=2e-5,\n",
    "    per_device_train_batch_size=8,\n",
    "    per_device_eval_batch_size=8,\n",
    "    num_train_epochs=4,\n",
    "    weight_decay=0.01,\n",
    "    load_best_model_at_end=True,\n",
    ")\n"
   ]
  },
  {
   "cell_type": "markdown",
   "id": "bbb0e322",
   "metadata": {},
   "source": [
    "# Train and save Model"
   ]
  },
  {
   "cell_type": "code",
   "execution_count": 18,
   "id": "bbe76461",
   "metadata": {},
   "outputs": [
    {
     "name": "stderr",
     "output_type": "stream",
     "text": [
      "C:\\Users\\laraw\\AppData\\Local\\Temp\\ipykernel_2292\\1661050895.py:1: FutureWarning: `tokenizer` is deprecated and will be removed in version 5.0.0 for `Trainer.__init__`. Use `processing_class` instead.\n",
      "  trainer = Trainer(\n",
      "c:\\Users\\laraw\\GitHub\\AI-Lab\\.venv\\lib\\site-packages\\torch\\utils\\data\\dataloader.py:665: UserWarning: 'pin_memory' argument is set as true but no accelerator is found, then device pinned memory won't be used.\n",
      "  warnings.warn(warn_msg)\n"
     ]
    },
    {
     "data": {
      "text/html": [
       "\n",
       "    <div>\n",
       "      \n",
       "      <progress value='1232' max='1232' style='width:300px; height:20px; vertical-align: middle;'></progress>\n",
       "      [1232/1232 45:52:21, Epoch 4/4]\n",
       "    </div>\n",
       "    <table border=\"1\" class=\"dataframe\">\n",
       "  <thead>\n",
       " <tr style=\"text-align: left;\">\n",
       "      <th>Epoch</th>\n",
       "      <th>Training Loss</th>\n",
       "      <th>Validation Loss</th>\n",
       "      <th>Accuracy</th>\n",
       "      <th>F1 Macro</th>\n",
       "    </tr>\n",
       "  </thead>\n",
       "  <tbody>\n",
       "    <tr>\n",
       "      <td>1</td>\n",
       "      <td>No log</td>\n",
       "      <td>1.334139</td>\n",
       "      <td>0.401460</td>\n",
       "      <td>0.143229</td>\n",
       "    </tr>\n",
       "    <tr>\n",
       "      <td>2</td>\n",
       "      <td>1.324700</td>\n",
       "      <td>1.124356</td>\n",
       "      <td>0.540146</td>\n",
       "      <td>0.334131</td>\n",
       "    </tr>\n",
       "    <tr>\n",
       "      <td>3</td>\n",
       "      <td>1.324700</td>\n",
       "      <td>0.946073</td>\n",
       "      <td>0.576642</td>\n",
       "      <td>0.499899</td>\n",
       "    </tr>\n",
       "    <tr>\n",
       "      <td>4</td>\n",
       "      <td>1.086000</td>\n",
       "      <td>0.942085</td>\n",
       "      <td>0.638686</td>\n",
       "      <td>0.567560</td>\n",
       "    </tr>\n",
       "  </tbody>\n",
       "</table><p>"
      ],
      "text/plain": [
       "<IPython.core.display.HTML object>"
      ]
     },
     "metadata": {},
     "output_type": "display_data"
    },
    {
     "name": "stderr",
     "output_type": "stream",
     "text": [
      "c:\\Users\\laraw\\GitHub\\AI-Lab\\.venv\\lib\\site-packages\\torch\\utils\\data\\dataloader.py:665: UserWarning: 'pin_memory' argument is set as true but no accelerator is found, then device pinned memory won't be used.\n",
      "  warnings.warn(warn_msg)\n",
      "c:\\Users\\laraw\\GitHub\\AI-Lab\\.venv\\lib\\site-packages\\torch\\utils\\data\\dataloader.py:665: UserWarning: 'pin_memory' argument is set as true but no accelerator is found, then device pinned memory won't be used.\n",
      "  warnings.warn(warn_msg)\n",
      "c:\\Users\\laraw\\GitHub\\AI-Lab\\.venv\\lib\\site-packages\\torch\\utils\\data\\dataloader.py:665: UserWarning: 'pin_memory' argument is set as true but no accelerator is found, then device pinned memory won't be used.\n",
      "  warnings.warn(warn_msg)\n"
     ]
    },
    {
     "data": {
      "text/plain": [
       "TrainOutput(global_step=1232, training_loss=1.1557869229997908, metrics={'train_runtime': 165177.1066, 'train_samples_per_second': 0.06, 'train_steps_per_second': 0.007, 'total_flos': 2591164202385408.0, 'train_loss': 1.1557869229997908, 'epoch': 4.0})"
      ]
     },
     "execution_count": 18,
     "metadata": {},
     "output_type": "execute_result"
    }
   ],
   "source": [
    "trainer = Trainer(\n",
    "    model=model,\n",
    "    args=training_args,\n",
    "    train_dataset=tokenized_train,\n",
    "    eval_dataset=tokenized_val,\n",
    "    tokenizer=tokenizer,\n",
    "    compute_metrics=compute_metrics,\n",
    ")\n",
    "\n",
    "# Training starten\n",
    "trainer.train()\n"
   ]
  },
  {
   "cell_type": "code",
   "execution_count": 19,
   "id": "85d41412",
   "metadata": {},
   "outputs": [
    {
     "data": {
      "text/plain": [
       "('trained_models/xlm-roberta-news-similarity\\\\tokenizer_config.json',\n",
       " 'trained_models/xlm-roberta-news-similarity\\\\special_tokens_map.json',\n",
       " 'trained_models/xlm-roberta-news-similarity\\\\tokenizer.json')"
      ]
     },
     "execution_count": 19,
     "metadata": {},
     "output_type": "execute_result"
    }
   ],
   "source": [
    "trainer.save_model(\"trained_models/xlm-roberta-news-similarity\")\n",
    "tokenizer.save_pretrained(\"trained_models/xlm-roberta-news-similarity\")\n"
   ]
  }
 ],
 "metadata": {
  "kernelspec": {
   "display_name": ".venv",
   "language": "python",
   "name": "python3"
  },
  "language_info": {
   "codemirror_mode": {
    "name": "ipython",
    "version": 3
   },
   "file_extension": ".py",
   "mimetype": "text/x-python",
   "name": "python",
   "nbconvert_exporter": "python",
   "pygments_lexer": "ipython3",
   "version": "3.10.9"
  }
 },
 "nbformat": 4,
 "nbformat_minor": 5
}
